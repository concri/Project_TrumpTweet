{
 "cells": [
  {
   "cell_type": "code",
   "execution_count": 10,
   "metadata": {},
   "outputs": [],
   "source": [
    "# GetOldTweet3 사용 준비\n",
    "try:\n",
    "    import GetOldTweets3 as got\n",
    "except:\n",
    "    !pip install GetOldTweets3\n",
    "    import GetOldTweets3 as got"
   ]
  },
  {
   "cell_type": "code",
   "execution_count": 11,
   "metadata": {},
   "outputs": [],
   "source": [
    "# BeautifulSoup4 사용 준비\n",
    "try:\n",
    "    from bs4 import BeautifulSoup\n",
    "except:\n",
    "    !pip install bs4\n",
    "    from bs4 import BeautifulSoup"
   ]
  },
  {
   "cell_type": "code",
   "execution_count": 12,
   "metadata": {},
   "outputs": [
    {
     "name": "stdout",
     "output_type": "stream",
     "text": [
      "=== 설정된 트윗 수집 기간은 2019-10-21 에서 2019-10-21 까지 입니다 ===\n",
      "=== 총 1일 간의 데이터 수집 ===\n"
     ]
    }
   ],
   "source": [
    "# 가져올 범위를 정의\n",
    "# 예제 : 2019-04-21 ~ 2019-04-24\n",
    "\n",
    "import datetime\n",
    "\n",
    "days_range = []\n",
    "\n",
    "start = datetime.datetime.strptime(\"2019-10-21\", \"%Y-%m-%d\")\n",
    "end = datetime.datetime.strptime(\"2019-10-22\", \"%Y-%m-%d\")\n",
    "date_generated = [start + datetime.timedelta(days=x) for x in range(0, (end-start).days)]\n",
    "\n",
    "for date in date_generated:\n",
    "    days_range.append(date.strftime(\"%Y-%m-%d\"))\n",
    "\n",
    "print(\"=== 설정된 트윗 수집 기간은 {} 에서 {} 까지 입니다 ===\".format(days_range[0], days_range[-1]))\n",
    "print(\"=== 총 {}일 간의 데이터 수집 ===\".format(len(days_range)))\n",
    "\n",
    "# === 설정된 트윗 수집 기간은 2019-04-21 에서 2019-04-24 까지 입니다 ===\n",
    "# === 총 4일 간의 데이터 수집 ==="
   ]
  },
  {
   "cell_type": "code",
   "execution_count": 13,
   "metadata": {},
   "outputs": [
    {
     "name": "stdout",
     "output_type": "stream",
     "text": [
      "Collecting data start.. from 2019-10-21 to 2019-10-21\n",
      "Collecting data end.. 1189.28 Minutes\n",
      "=== Total num of tweets is 625076 ===\n"
     ]
    }
   ],
   "source": [
    "# 특정 검색어가 포함된 트윗 검색하기 (quary search)\n",
    "# 검색어 : 어벤져스, 스포\n",
    "\n",
    "import time\n",
    "\n",
    "# 수집 기간 맞추기\n",
    "start_date = days_range[0]\n",
    "end_date = (datetime.datetime.strptime(days_range[-1], \"%Y-%m-%d\") \n",
    "            + datetime.timedelta(days=1)).strftime(\"%Y-%m-%d\") # setUntil이 끝을 포함하지 않으므로, day + 1\n",
    "\n",
    "# 트윗 수집 기준 정의\n",
    "tweetCriteria = got.manager.TweetCriteria().setQuerySearch('Trump')\\\n",
    "                                           .setSince(start_date)\\\n",
    "                                           .setUntil(end_date)\\\n",
    "                                           .setMaxTweets(-1)\n",
    "\n",
    "# 수집 with GetOldTweet3\n",
    "print(\"Collecting data start.. from {} to {}\".format(days_range[0], days_range[-1]))\n",
    "start_time = time.time()\n",
    "\n",
    "tweet = got.manager.TweetManager.getTweets(tweetCriteria)\n",
    "\n",
    "print(\"Collecting data end.. {0:0.2f} Minutes\".format((time.time() - start_time)/60))\n",
    "print(\"=== Total num of tweets is {} ===\".format(len(tweet)))\n",
    "\n",
    "# Collecting data start.. from 2019-04-21 to 2019-04-24\n",
    "# Collecting data end.. 41.39 Minutes\n",
    "# === Total num of tweets is 22964 ==="
   ]
  },
  {
   "cell_type": "code",
   "execution_count": 14,
   "metadata": {},
   "outputs": [
    {
     "data": {
      "text/plain": [
       "GetOldTweets3.models.Tweet.Tweet"
      ]
     },
     "execution_count": 14,
     "metadata": {},
     "output_type": "execute_result"
    }
   ],
   "source": [
    "type(tweet[0])"
   ]
  },
  {
   "cell_type": "code",
   "execution_count": null,
   "metadata": {},
   "outputs": [
    {
     "data": {
      "application/vnd.jupyter.widget-view+json": {
       "model_id": "ce5bc54f169a4650aff9d943f92f1522",
       "version_major": 2,
       "version_minor": 0
      },
      "text/plain": [
       "HBox(children=(IntProgress(value=0, max=625076), HTML(value='')))"
      ]
     },
     "metadata": {},
     "output_type": "display_data"
    },
    {
     "name": "stdout",
     "output_type": "stream",
     "text": [
      "=== Attribute error occurs at https://twitter.com/AmericaFightHim/status/1186431909569728513 ===\n",
      "link : https://twitter.com/AmericaFightHim\n",
      "=== Attribute error occurs at https://twitter.com/PoGirlShines/status/1186431876178829312 ===\n",
      "link : https://twitter.com/PoGirlShines\n",
      "=== Attribute error occurs at https://twitter.com/AmericaFightHim/status/1186431355011424256 ===\n",
      "link : https://twitter.com/AmericaFightHim\n"
     ]
    }
   ],
   "source": [
    "# 원하는 변수 골라서 저장하기\n",
    "\n",
    "from random import uniform\n",
    "from tqdm import tqdm_notebook\n",
    "\n",
    "import requests\n",
    "from bs4 import BeautifulSoup\n",
    "\n",
    "def get_bs_obj(url):\n",
    "    result = requests.get(url)\n",
    "    bs_obj = BeautifulSoup(result.content, \"html.parser\")\n",
    "    \n",
    "    return bs_obj\n",
    "\n",
    "# initialize\n",
    "tweet_list = []\n",
    "\n",
    "for index in tqdm_notebook(tweet):\n",
    "    \n",
    "    # 메타데이터 목록 \n",
    "    username = index.username\n",
    "    link = index.permalink \n",
    "    content = index.text\n",
    "    tweet_date = index.date.strftime(\"%Y-%m-%d\")\n",
    "    tweet_time = index.date.strftime(\"%H:%M:%S\")\n",
    "    retweets = index.retweets\n",
    "    favorites = index.favorites\n",
    "    \n",
    "    # === 유저 정보 수집 시작 ===\n",
    "    try:\n",
    "        personal_link = 'https://twitter.com/' + username\n",
    "        bs_obj = get_bs_obj(personal_link)\n",
    "        uls = bs_obj.find(\"ul\", {\"class\": \"ProfileNav-list\"}).find_all(\"li\")\n",
    "        div = bs_obj.find(\"div\", {\"class\": \"ProfileHeaderCard-joinDate\"}).find_all(\"span\")[1][\"title\"]\n",
    "\n",
    "\n",
    "        # 가입일, 전체 트윗 수, 팔로잉 수, 팔로워 수\n",
    "        #joined_date = div.split('-')[1].strip()\n",
    "        #num_tweets = uls[0].find(\"span\", {\"class\": \"ProfileNav-value\"}).text.strip()\n",
    "        #num_following = uls[1].find(\"span\", {\"class\": \"ProfileNav-value\"}).text.strip()\n",
    "        #num_follower = uls[2].find(\"span\", {\"class\": \"ProfileNav-value\"}).text.strip()\n",
    "    \n",
    "    except AttributeError:\n",
    "        print(\"=== Attribute error occurs at {} ===\".format(link))\n",
    "        print(\"link : {}\".format(personal_link))   \n",
    "        pass\n",
    "     \n",
    "    # 결과 합치기\n",
    "    info_list = [tweet_date, tweet_time, username, content, link, retweets, favorites, \n",
    "                   ]\n",
    "    #joined_date,num_tweets,num_following, num_follower\n",
    "    tweet_list.append(info_list)\n",
    "    \n",
    "    # 휴식 \n",
    "    time.sleep(uniform(1,2))"
   ]
  },
  {
   "cell_type": "code",
   "execution_count": null,
   "metadata": {},
   "outputs": [],
   "source": [
    "# 파일 저장하기\n",
    "\n",
    "\n",
    "import pandas as pd\n",
    "\n",
    "twitter_df = pd.DataFrame(tweet_list, \n",
    "                          columns = [\"date\", \"time\", \"user_name\", \"text\", \"link\", \"retweet_counts\", \"favorite_counts\",])\n",
    "                                    #\"user_created\", \"user_tweets\", \"user_followings\", \"user_followers\"])\n",
    "\n",
    "# csv 파일 만들기\n",
    "twitter_df.to_csv(\"sample_twitter_data_{}_to_{}.csv\".format(days_range[0], days_range[-1]), index=False)\n",
    "print(\"=== {} tweets are successfully saved ===\".format(len(tweet_list)))\n",
    "\n",
    "# === 22964 tweets are successfully saved ==="
   ]
  },
  {
   "cell_type": "code",
   "execution_count": null,
   "metadata": {},
   "outputs": [],
   "source": [
    "# 파일 확인하기\n",
    "\n",
    "df_tweet = pd.read_csv('sample_twitter_data_{}_to_{}.csv'.format(days_range[0], days_range[-1]))\n",
    "df_tweet.head(36) # 위에서 10개만 출력"
   ]
  },
  {
   "cell_type": "code",
   "execution_count": null,
   "metadata": {},
   "outputs": [],
   "source": []
  }
 ],
 "metadata": {
  "kernelspec": {
   "display_name": "Python 3",
   "language": "python",
   "name": "python3"
  },
  "language_info": {
   "codemirror_mode": {
    "name": "ipython",
    "version": 3
   },
   "file_extension": ".py",
   "mimetype": "text/x-python",
   "name": "python",
   "nbconvert_exporter": "python",
   "pygments_lexer": "ipython3",
   "version": "3.7.3"
  }
 },
 "nbformat": 4,
 "nbformat_minor": 2
}
